{
 "cells": [
  {
   "cell_type": "markdown",
   "metadata": {},
   "source": [
    "## My first practic Pytorch\n"
   ]
  },
  {
   "cell_type": "markdown",
   "metadata": {},
   "source": [
    "## Table of Contents\n",
    "* [create tensor](#)\n",
    "    * [Create empty tensor](#)\n",
    "    * [Create tensors with random/ones/zeros values](#)\n",
    "* [operations on tensors](#)\n",
    "    * [add](#)\n",
    "    * [SUB](#)\n",
    "    * [multiply](#)\n",
    "    * [divide](#)\n",
    "    * [transpose](#)\n",
    "---"
   ]
  },
  {
   "cell_type": "markdown",
   "metadata": {},
   "source": [
    "# create tensor"
   ]
  },
  {
   "cell_type": "code",
   "execution_count": 1,
   "metadata": {},
   "outputs": [
    {
     "name": "stdout",
     "output_type": "stream",
     "text": [
      "Empty Tensor:\n",
      " tensor([[6.9874e-10, 1.1014e-42],\n",
      "        [0.0000e+00, 0.0000e+00]])\n"
     ]
    }
   ],
   "source": [
    "import torch\n",
    "empty_tensor=torch.empty(2,2)\n",
    "print(\"Empty Tensor:\\n\", empty_tensor)"
   ]
  },
  {
   "cell_type": "markdown",
   "metadata": {},
   "source": [
    "# create tensors with random/ones/zeros values"
   ]
  },
  {
   "cell_type": "code",
   "execution_count": 3,
   "metadata": {},
   "outputs": [
    {
     "name": "stdout",
     "output_type": "stream",
     "text": [
      "random_tensor:\n",
      " tensor([[0.4893, 0.7476, 0.7838],\n",
      "        [0.7661, 0.6206, 0.7807],\n",
      "        [0.7945, 0.7123, 0.2583]])\n",
      "ones_tensor:\n",
      " tensor([[1., 1., 1.],\n",
      "        [1., 1., 1.],\n",
      "        [1., 1., 1.]])\n",
      "zero_tensor:\n",
      " tensor([[0., 0., 0.],\n",
      "        [0., 0., 0.],\n",
      "        [0., 0., 0.]])\n"
     ]
    }
   ],
   "source": [
    "random_tensor = torch.rand(3, 3)\n",
    "ones_tensor = torch.ones(3, 3)\n",
    "zeros_tensor = torch.zeros(3, 3)\n",
    "\n",
    "print(\"random_tensor:\\n\", random_tensor)\n",
    "print(\"ones_tensor:\\n\", ones_tensor)\n",
    "print(\"zero_tensor:\\n\", zeros_tensor)"
   ]
  },
  {
   "cell_type": "markdown",
   "metadata": {},
   "source": [
    "# operations on tensors"
   ]
  },
  {
   "cell_type": "code",
   "execution_count": 29,
   "metadata": {},
   "outputs": [
    {
     "name": "stdout",
     "output_type": "stream",
     "text": [
      "tensor_a:\n",
      " tensor([[1, 3],\n",
      "        [2, 5]])\n",
      "tensor_b:\n",
      " tensor([[1, 8],\n",
      "        [3, 5]])\n",
      "\n",
      "Added Tensors:\n",
      " tensor([[ 2, 11],\n",
      "        [ 5, 10]])\n",
      "\n",
      "Sub Tensor:\n",
      " tensor([[ 0, -5],\n",
      "        [-1,  0]])\n",
      "\n",
      "Multiplied Tensors:\n",
      " tensor([[ 1, 24],\n",
      "        [ 6, 25]])\n",
      "\n",
      "Divided Tensors:\n",
      " tensor([[ 1, 24],\n",
      "        [ 6, 25]])\n",
      "\n",
      "Transposed Tensor_ a:\n",
      " tensor([[1, 2],\n",
      "        [3, 5]])\n",
      "\n",
      "Transposed Tensor b:\n",
      " tensor([[1, 3],\n",
      "        [8, 5]])\n"
     ]
    }
   ],
   "source": [
    "tensor_a = torch.tensor([[1,3], [2,5]])\n",
    "tensor_b = torch.tensor([[1,8], [3,5]])\n",
    "print(\"tensor_a:\\n\", tensor_a)\n",
    "print(\"tensor_b:\\n\", tensor_b)\n",
    "#added_tensors = tensor_a + tensor_b\n",
    "added_tensors =torch.add(tensor_a,tensor_b)\n",
    "print(\"\\nAdded Tensors:\\n\", added_tensors)\n",
    "#sub_tensors=tensor_a - tensor_b\n",
    "sub_tensors =torch.sub(tensor_a,tensor_b)\n",
    "print(\"\\nSub Tensor:\\n\", sub_tensors)\n",
    "#multiplied_tensors = tensor_a * tensor_b\n",
    "multiplied_tensors =torch.mul(tensor_a,tensor_b) \n",
    "print(\"\\nMultiplied Tensors:\\n\", multiplied_tensors)\n",
    "#div_tensors=tensor_a / tensor_b\n",
    "div_tensors =torch.div(tensor_a,tensor_b) \n",
    "print(\"\\nDivided Tensors:\\n\", multiplied_tensors)\n",
    "#transposed_tensor_a = tensor_a.T\n",
    "transposed_tensor_a = torch.transpose(tensor_a,0,1)\n",
    "print(\"\\nTransposed Tensor_ a:\\n\", transposed_tensor_a)\n",
    "#transposed_tensor_b = tensor_b.T\n",
    "transposed_tensor_b = torch.transpose(tensor_b,0,1)\n",
    "print(\"\\nTransposed Tensor b:\\n\", transposed_tensor_b)"
   ]
  },
  {
   "cell_type": "markdown",
   "metadata": {},
   "source": []
  }
 ],
 "metadata": {
  "kernelspec": {
   "display_name": "Python 3",
   "language": "python",
   "name": "python3"
  },
  "language_info": {
   "codemirror_mode": {
    "name": "ipython",
    "version": 3
   },
   "file_extension": ".py",
   "mimetype": "text/x-python",
   "name": "python",
   "nbconvert_exporter": "python",
   "pygments_lexer": "ipython3",
   "version": "3.10.11"
  }
 },
 "nbformat": 4,
 "nbformat_minor": 2
}
