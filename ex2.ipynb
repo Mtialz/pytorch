{
 "cells": [
  {
   "cell_type": "code",
   "execution_count": 1,
   "metadata": {},
   "outputs": [
    {
     "name": "stdout",
     "output_type": "stream",
     "text": [
      "After in-place addition, y:\n",
      " tensor([[0.3569, 1.0541],\n",
      "        [0.9211, 1.4362]])\n"
     ]
    }
   ],
   "source": [
    "import torch \n",
    "import numpy as np\n",
    "\n",
    "# Create two random 2x2 tensors\n",
    "x = torch.rand(2, 2)\n",
    "y = torch.rand(2, 2)\n",
    "\n",
    "# In-place addition of x to y\n",
    "y.add_(x)\n",
    "print(\"After in-place addition, y:\\n\", y)\n"
   ]
  },
  {
   "cell_type": "code",
   "execution_count": 2,
   "metadata": {},
   "outputs": [
    {
     "name": "stdout",
     "output_type": "stream",
     "text": [
      "Initial first_value:\n",
      " tensor([1., 1., 1., 1., 1.])\n",
      "Converted to NumPy array, second_value:\n",
      " [1. 1. 1. 1. 1.]\n",
      "After in-place addition, first_value:\n",
      " tensor([2., 2., 2., 2., 2.])\n",
      "NumPy array after first_value update, second_value:\n",
      " [2. 2. 2. 2. 2.]\n"
     ]
    }
   ],
   "source": [
    "# Create a tensor of ones with 5 elements\n",
    "first_value = torch.ones(5)\n",
    "print(\"Initial first_value:\\n\", first_value)\n",
    "\n",
    "# Convert the PyTorch tensor to a NumPy array\n",
    "second_value = first_value.numpy()\n",
    "print(\"Converted to NumPy array, second_value:\\n\", second_value)\n",
    "\n",
    "# In-place addition on the original tensor\n",
    "first_value.add_(1)\n",
    "print(\"After in-place addition, first_value:\\n\", first_value)\n",
    "# The NumPy array will also reflect the changes due to shared memory\n",
    "print(\"NumPy array after first_value update, second_value:\\n\", second_value)\n"
   ]
  },
  {
   "cell_type": "code",
   "execution_count": 3,
   "metadata": {},
   "outputs": [
    {
     "name": "stdout",
     "output_type": "stream",
     "text": [
      "New first_value (NumPy array):\n",
      " [1. 1. 1. 1. 1. 1.]\n",
      "Converted to PyTorch tensor, second_value:\n",
      " tensor([1., 1., 1., 1., 1., 1.], dtype=torch.float64)\n",
      "Updated first_value after increment:\n",
      " [2. 2. 2. 2. 2. 2.]\n",
      "Updated second_value (PyTorch tensor):\n",
      " tensor([2., 2., 2., 2., 2., 2.], dtype=torch.float64)\n"
     ]
    }
   ],
   "source": [
    "# Create a new NumPy array of ones with 6 elements\n",
    "first_value = np.ones(6)\n",
    "print(\"New first_value (NumPy array):\\n\", first_value)\n",
    "\n",
    "# Convert the NumPy array to a PyTorch tensor\n",
    "second_value = torch.from_numpy(first_value)\n",
    "print(\"Converted to PyTorch tensor, second_value:\\n\", second_value)\n",
    "\n",
    "# Increment the NumPy array in-place\n",
    "first_value += 1\n",
    "\n",
    "# The tensor will also reflect the changes due to shared memory\n",
    "print(\"Updated first_value after increment:\\n\", first_value)\n",
    "print(\"Updated second_value (PyTorch tensor):\\n\", second_value)"
   ]
  },
  {
   "cell_type": "code",
   "execution_count": 4,
   "metadata": {},
   "outputs": [],
   "source": [
    "# Check if CUDA (GPU support) is available\n",
    "if torch.cuda.is_available():\n",
    "    device = torch.device(\"cuda\")\n",
    "    \n",
    "    # Create a tensor of ones on the GPU\n",
    "    x = torch.ones(4, device=device)\n",
    "    \n",
    "    # Create a tensor of ones on the CPU and move it to the GPU\n",
    "    y = torch.ones(4).to(device)\n",
    "    \n",
    "    # Perform addition on the GPU\n",
    "    z = x + y\n",
    "    \n",
    "    # The following line would cause an error because you can't call .numpy() on a tensor on the GPU\n",
    "    # z.numpy()  ## This would raise an error\n",
    "    \n",
    "    # You need to move the tensor back to the CPU before converting to NumPy\n",
    "    z = z.to(\"cpu\")\n",
    "    print(\"Result moved to CPU and ready for numpy conversion:\\n\", z.numpy())\n"
   ]
  },
  {
   "cell_type": "code",
   "execution_count": 5,
   "metadata": {},
   "outputs": [
    {
     "name": "stdout",
     "output_type": "stream",
     "text": [
      "Tensor x with requires_grad=True:\n",
      " tensor([0.6078, 0.6832, 0.1760], requires_grad=True)\n",
      "After operation y = x + 2:\n",
      " tensor([2.6078, 2.6832, 2.1760], grad_fn=<AddBackward0>)\n",
      "After operation z = y^2 * 2:\n",
      " tensor([13.6011, 14.3987,  9.4700], grad_fn=<MulBackward0>)\n",
      "Gradients of x after backward pass:\n",
      " tensor([1.0431, 1.0733, 0.0087])\n"
     ]
    }
   ],
   "source": [
    "# Autograd example with forward and backward propagation\n",
    "x = torch.rand(3, requires_grad=True)\n",
    "print(\"Tensor x with requires_grad=True:\\n\", x)\n",
    "\n",
    "# Perform some operations\n",
    "y = x + 2\n",
    "print(\"After operation y = x + 2:\\n\", y)\n",
    "\n",
    "z = y * y * 2\n",
    "print(\"After operation z = y^2 * 2:\\n\", z)\n",
    "\n",
    "# Define a vector for the backward pass\n",
    "v = torch.tensor([0.1, 0.1, 0.001], dtype=torch.float32)\n",
    "# Perform the backward pass (computes the gradients)\n",
    "z.backward(v)  ## dz/dx and we can call it without an argument if z is scalar\n",
    "print(\"Gradients of x after backward pass:\\n\", x.grad)\n",
    "\n"
   ]
  },
  {
   "cell_type": "code",
   "execution_count": 6,
   "metadata": {},
   "outputs": [
    {
     "name": "stdout",
     "output_type": "stream",
     "text": [
      "x after operation inside torch.no_grad():\n",
      " tensor([1.6078, 1.6832, 1.1760])\n",
      "y (detached from x):\n",
      " tensor([1.6078, 1.6832, 1.1760])\n"
     ]
    }
   ],
   "source": [
    "# To stop tracking the gradient for the tensor, you can use:\n",
    "x.requires_grad_(False)  # OR x = x.detach()\n",
    "\n",
    "# Detach the tensor from the computational graph (another way to stop tracking)\n",
    "x = x.detach()\n",
    "\n",
    "# To prevent gradients from being tracked, use `torch.no_grad()`\n",
    "with torch.no_grad():\n",
    "    x = x + 1\n",
    "    print(\"x after operation inside torch.no_grad():\\n\", x)\n",
    "\n",
    "# Corrected usage of detach\n",
    "y = x.detach()\n",
    "print(\"y (detached from x):\\n\", y)\n"
   ]
  }
 ],
 "metadata": {
  "kernelspec": {
   "display_name": "Python 3",
   "language": "python",
   "name": "python3"
  },
  "language_info": {
   "codemirror_mode": {
    "name": "ipython",
    "version": 3
   },
   "file_extension": ".py",
   "mimetype": "text/x-python",
   "name": "python",
   "nbconvert_exporter": "python",
   "pygments_lexer": "ipython3",
   "version": "3.10.11"
  }
 },
 "nbformat": 4,
 "nbformat_minor": 2
}
